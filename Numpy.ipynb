{
  "nbformat": 4,
  "nbformat_minor": 0,
  "metadata": {
    "colab": {
      "provenance": [],
      "authorship_tag": "ABX9TyNzKh1qSYP+LD+XfPLUfHHm",
      "include_colab_link": true
    },
    "kernelspec": {
      "name": "python3",
      "display_name": "Python 3"
    },
    "language_info": {
      "name": "python"
    }
  },
  "cells": [
    {
      "cell_type": "markdown",
      "metadata": {
        "id": "view-in-github",
        "colab_type": "text"
      },
      "source": [
        "<a href=\"https://colab.research.google.com/github/Swarnlataaa/numpy/blob/main/Numpy.ipynb\" target=\"_parent\"><img src=\"https://colab.research.google.com/assets/colab-badge.svg\" alt=\"Open In Colab\"/></a>"
      ]
    },
    {
      "cell_type": "code",
      "execution_count": null,
      "metadata": {
        "id": "9fYg_A_1xFZw"
      },
      "outputs": [],
      "source": [
        "pip install numpy"
      ]
    },
    {
      "cell_type": "code",
      "source": [
        "import numpy as np"
      ],
      "metadata": {
        "id": "812Qo6LRxOL2"
      },
      "execution_count": null,
      "outputs": []
    },
    {
      "cell_type": "code",
      "source": [
        "# Create a 1D array\n",
        "arr_1d = np.array([1, 2, 3, 4, 5])\n",
        "\n",
        "# Create a 2D array (matrix)\n",
        "matrix_2d = np.array([[1, 2, 3], [4, 5, 6], [7, 8, 9]])\n",
        "\n",
        "# Create an array of zeros\n",
        "zeros_arr = np.zeros((3, 3))  # Creates a 3x3 array filled with zeros\n",
        "\n",
        "# Create an array of ones\n",
        "ones_arr = np.ones((2, 4))  # Creates a 2x4 array filled with ones\n",
        "\n",
        "# Create an array with a range of values\n",
        "range_arr = np.arange(0, 10, 2)  # Creates an array from 0 to 10 (exclusive) with a step of 2\n",
        "\n",
        "# Create an array with evenly spaced values\n",
        "linspace_arr = np.linspace(0, 1, 5)  # Creates an array with 5 evenly spaced values between 0 and 1\n",
        "\n",
        "# Create a random array\n",
        "rand_arr = np.random.rand(3, 3)  # Creates a 3x3 array with random values between 0 and 1\n"
      ],
      "metadata": {
        "id": "lbS2J0WkxQRw"
      },
      "execution_count": null,
      "outputs": []
    },
    {
      "cell_type": "markdown",
      "source": [
        "### Array operations"
      ],
      "metadata": {
        "id": "1QNmViSdxUfV"
      }
    },
    {
      "cell_type": "code",
      "source": [
        "# Element-wise operations\n",
        "arr1 = np.array([1, 2, 3])\n",
        "arr2 = np.array([4, 5, 6])\n",
        "\n",
        "sum_arr = arr1 + arr2  # Element-wise addition\n",
        "diff_arr = arr1 - arr2  # Element-wise subtraction\n",
        "prod_arr = arr1 * arr2  # Element-wise multiplication\n",
        "div_arr = arr1 / arr2  # Element-wise division\n",
        "\n",
        "# Matrix multiplication\n",
        "mat1 = np.array([[1, 2], [3, 4]])\n",
        "mat2 = np.array([[5, 6], [7, 8]])\n",
        "\n",
        "mat_mult = np.dot(mat1, mat2)  # Matrix multiplication\n",
        "\n",
        "# Transposing a matrix\n",
        "mat_transpose = np.transpose(matrix_2d)\n",
        "\n",
        "# Statistical operations\n",
        "mean_value = np.mean(arr1)  # Calculate mean\n",
        "std_dev = np.std(arr1)  # Calculate standard deviation\n",
        "max_val = np.max(arr1)  # Find maximum value\n",
        "\n",
        "# Reshaping arrays\n",
        "reshaped_arr = arr_1d.reshape(2, 3)  # Reshape a 1D array into a 2x3 array\n"
      ],
      "metadata": {
        "id": "jRWXQ5BXxS5R"
      },
      "execution_count": null,
      "outputs": []
    },
    {
      "cell_type": "markdown",
      "source": [
        "### Advanced array ops"
      ],
      "metadata": {
        "id": "xa8mEmbQxaMV"
      }
    },
    {
      "cell_type": "code",
      "source": [
        "# Creating an identity matrix\n",
        "identity_matrix = np.eye(3)  # 3x3 identity matrix\n",
        "\n",
        "# Creating a diagonal matrix\n",
        "diagonal_matrix = np.diag([1, 2, 3])  # Diagonal matrix with specified diagonal values\n",
        "\n",
        "# Creating a random integer array\n",
        "rand_int_arr = np.random.randint(0, 10, size=(3, 3))  # 3x3 array with random integers from 0 to 9\n",
        "\n",
        "# Creating an array with specified data type\n",
        "float_arr = np.array([1, 2, 3], dtype=float)  # Create a float array\n",
        "\n",
        "# Creating a boolean array\n",
        "bool_arr = np.array([True, False, True])\n"
      ],
      "metadata": {
        "id": "bXyWq3L-xcXI"
      },
      "execution_count": null,
      "outputs": []
    },
    {
      "cell_type": "markdown",
      "source": [
        "### Array manipulation"
      ],
      "metadata": {
        "id": "ogaiA1MRxfbd"
      }
    },
    {
      "cell_type": "code",
      "source": [
        "# Concatenating arrays\n",
        "concatenated_arr = np.concatenate((arr1, arr2))  # Concatenate two arrays\n",
        "\n",
        "# Stacking arrays vertically and horizontally\n",
        "vstacked = np.vstack((arr1, arr2))  # Stack arrays vertically\n",
        "hstacked = np.hstack((arr1, arr2))  # Stack arrays horizontally\n",
        "\n",
        "# Splitting arrays\n",
        "split_arr = np.split(arr1, 3)  # Split array into 3 equal parts\n",
        "\n",
        "# Reshaping arrays\n",
        "reshaped_arr = arr1.reshape(1, -1)  # Reshape to a 1xN array (automatic determination of N)\n"
      ],
      "metadata": {
        "id": "2NlhIICCxhgJ"
      },
      "execution_count": null,
      "outputs": []
    },
    {
      "cell_type": "markdown",
      "source": [
        "### Mathematical functions"
      ],
      "metadata": {
        "id": "jQgDOVBAxj7b"
      }
    },
    {
      "cell_type": "code",
      "source": [
        "# Trigonometric functions\n",
        "sin_arr = np.sin(arr1)  # Sine\n",
        "cos_arr = np.cos(arr1)  # Cosine\n",
        "tan_arr = np.tan(arr1)  # Tangent\n",
        "\n",
        "# Exponential and logarithmic functions\n",
        "exp_arr = np.exp(arr1)  # Exponential\n",
        "log_arr = np.log(arr1)  # Natural logarithm\n",
        "log10_arr = np.log10(arr1)  # Base 10 logarithm\n",
        "\n",
        "# Element-wise absolute values\n",
        "abs_arr = np.abs(arr1)  # Absolute values of elements\n",
        "\n",
        "# Element-wise square root\n",
        "sqrt_arr = np.sqrt(arr1)  # Square root of elements\n"
      ],
      "metadata": {
        "id": "30PXzRsmxmfm"
      },
      "execution_count": null,
      "outputs": []
    },
    {
      "cell_type": "markdown",
      "source": [
        "### Linear functions"
      ],
      "metadata": {
        "id": "sUBpgZ6nxnBn"
      }
    },
    {
      "cell_type": "code",
      "source": [
        "# Matrix determinant\n",
        "determinant = np.linalg.det(mat1)\n",
        "\n",
        "# Matrix inverse\n",
        "inverse_mat = np.linalg.inv(mat1)\n",
        "\n",
        "# Eigenvalues and eigenvectors\n",
        "eigenvalues, eigenvectors = np.linalg.eig(mat1)\n",
        "\n",
        "# Singular Value Decomposition (SVD)\n",
        "U, S, VT = np.linalg.svd(mat1)\n"
      ],
      "metadata": {
        "id": "u35_KO9cxtH1"
      },
      "execution_count": null,
      "outputs": []
    }
  ]
}